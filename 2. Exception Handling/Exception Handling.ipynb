{
 "cells": [
  {
   "cell_type": "markdown",
   "id": "983cf5b7",
   "metadata": {},
   "source": [
    "# Exception Handling"
   ]
  },
  {
   "cell_type": "markdown",
   "id": "7e65c5f3",
   "metadata": {},
   "source": [
    "1. try - lets you test a block of code for errors.\n",
    "2. except - Execute this code, when there is exception/error.\n",
    "3. else - No exceptions ? Run this code.\n",
    "4. finally - Always run this code, regardless of the result of the try- and except blocks.\n"
   ]
  },
  {
   "cell_type": "markdown",
   "id": "96fb3ebf",
   "metadata": {},
   "source": [
    "Example 1"
   ]
  },
  {
   "cell_type": "code",
   "execution_count": 1,
   "id": "c4719442",
   "metadata": {},
   "outputs": [
    {
     "name": "stdout",
     "output_type": "stream",
     "text": [
      "[Errno 2] No such file or directory: 'file.log'\n"
     ]
    }
   ],
   "source": [
    "try:\n",
    "    with open('file.log') as file:\n",
    "        read_data = file.read()\n",
    "except FileNotFoundError as fnf_error:\n",
    "    print(fnf_error)"
   ]
  },
  {
   "cell_type": "markdown",
   "id": "14d5dddf",
   "metadata": {},
   "source": [
    "Example 2"
   ]
  },
  {
   "cell_type": "code",
   "execution_count": 2,
   "id": "682ebc40",
   "metadata": {},
   "outputs": [
    {
     "name": "stdout",
     "output_type": "stream",
     "text": [
      "Could not open file.log\n"
     ]
    }
   ],
   "source": [
    "try:\n",
    "    with open('file.log') as file:\n",
    "        read_data = file.read()\n",
    "except:\n",
    "    print('Could not open file.log')"
   ]
  },
  {
   "cell_type": "markdown",
   "id": "98bf58a6",
   "metadata": {},
   "source": [
    "Example 3"
   ]
  },
  {
   "cell_type": "code",
   "execution_count": 6,
   "id": "6b893498",
   "metadata": {},
   "outputs": [
    {
     "name": "stdout",
     "output_type": "stream",
     "text": [
      "Variable x is not defined\n"
     ]
    }
   ],
   "source": [
    "try:\n",
    "  print(x)\n",
    "\n",
    "except NameError:\n",
    "  print(\"Variable x is not defined\")\n",
    "\n",
    "except:\n",
    "  print(\"Something else went wrong\")"
   ]
  },
  {
   "cell_type": "markdown",
   "id": "684c2cf1",
   "metadata": {},
   "source": [
    "Example 4"
   ]
  },
  {
   "cell_type": "code",
   "execution_count": 7,
   "id": "eced5acc",
   "metadata": {},
   "outputs": [
    {
     "name": "stdout",
     "output_type": "stream",
     "text": [
      "Hello\n",
      "Nothing went wrong\n"
     ]
    }
   ],
   "source": [
    "try:\n",
    "  print(\"Hello\")\n",
    "except:\n",
    "  print(\"Something went wrong\")\n",
    "else:\n",
    "  print(\"Nothing went wrong\")"
   ]
  },
  {
   "cell_type": "markdown",
   "id": "85fd9671",
   "metadata": {},
   "source": [
    "Example 5"
   ]
  },
  {
   "cell_type": "code",
   "execution_count": 9,
   "id": "c306b8d0",
   "metadata": {},
   "outputs": [
    {
     "name": "stdout",
     "output_type": "stream",
     "text": [
      "Hello Sumant\n",
      "Nothing went wrong\n",
      "The 'try except' is finished\n"
     ]
    }
   ],
   "source": [
    "try:\n",
    "  print(\"Hello Sumant\")\n",
    "except:\n",
    "  print(\"Something went wrong\")\n",
    "else:\n",
    "  print(\"Nothing went wrong\")\n",
    "finally:\n",
    "  print(\"The 'try except' is finished\")"
   ]
  },
  {
   "cell_type": "markdown",
   "id": "9733d8f7",
   "metadata": {},
   "source": [
    "Example 6 - Raising an Exception"
   ]
  },
  {
   "cell_type": "code",
   "execution_count": 12,
   "id": "a410e8b3",
   "metadata": {},
   "outputs": [
    {
     "ename": "Exception",
     "evalue": "Sorry, no numbers below zero",
     "output_type": "error",
     "traceback": [
      "\u001b[1;31m---------------------------------------------------------------------------\u001b[0m",
      "\u001b[1;31mException\u001b[0m                                 Traceback (most recent call last)",
      "\u001b[1;32m<ipython-input-12-2edc57024fbc>\u001b[0m in \u001b[0;36m<module>\u001b[1;34m\u001b[0m\n\u001b[0;32m      2\u001b[0m \u001b[1;33m\u001b[0m\u001b[0m\n\u001b[0;32m      3\u001b[0m \u001b[1;32mif\u001b[0m \u001b[0mx\u001b[0m \u001b[1;33m<\u001b[0m \u001b[1;36m0\u001b[0m\u001b[1;33m:\u001b[0m\u001b[1;33m\u001b[0m\u001b[1;33m\u001b[0m\u001b[0m\n\u001b[1;32m----> 4\u001b[1;33m   \u001b[1;32mraise\u001b[0m \u001b[0mException\u001b[0m\u001b[1;33m(\u001b[0m\u001b[1;34m\"Sorry, no numbers below zero\"\u001b[0m\u001b[1;33m)\u001b[0m\u001b[1;33m\u001b[0m\u001b[1;33m\u001b[0m\u001b[0m\n\u001b[0m",
      "\u001b[1;31mException\u001b[0m: Sorry, no numbers below zero"
     ]
    }
   ],
   "source": [
    "x = -1\n",
    "\n",
    "if x < 0:\n",
    "  raise Exception(\"Sorry, no numbers below zero\")"
   ]
  },
  {
   "cell_type": "markdown",
   "id": "53ecad05",
   "metadata": {},
   "source": [
    "Example 7 - Raising a TypeError"
   ]
  },
  {
   "cell_type": "code",
   "execution_count": 17,
   "id": "bab69689",
   "metadata": {},
   "outputs": [
    {
     "ename": "TypeError",
     "evalue": "Only integers are allowed",
     "output_type": "error",
     "traceback": [
      "\u001b[1;31m---------------------------------------------------------------------------\u001b[0m",
      "\u001b[1;31mTypeError\u001b[0m                                 Traceback (most recent call last)",
      "\u001b[1;32m<ipython-input-17-399d8e0c6088>\u001b[0m in \u001b[0;36m<module>\u001b[1;34m\u001b[0m\n\u001b[0;32m      2\u001b[0m \u001b[1;33m\u001b[0m\u001b[0m\n\u001b[0;32m      3\u001b[0m \u001b[1;32mif\u001b[0m \u001b[1;32mnot\u001b[0m \u001b[0mtype\u001b[0m\u001b[1;33m(\u001b[0m\u001b[0mx\u001b[0m\u001b[1;33m)\u001b[0m \u001b[1;32mis\u001b[0m \u001b[0mint\u001b[0m\u001b[1;33m:\u001b[0m\u001b[1;33m\u001b[0m\u001b[1;33m\u001b[0m\u001b[0m\n\u001b[1;32m----> 4\u001b[1;33m   \u001b[1;32mraise\u001b[0m \u001b[0mTypeError\u001b[0m\u001b[1;33m(\u001b[0m\u001b[1;34m\"Only integers are allowed\"\u001b[0m\u001b[1;33m)\u001b[0m\u001b[1;33m\u001b[0m\u001b[1;33m\u001b[0m\u001b[0m\n\u001b[0m",
      "\u001b[1;31mTypeError\u001b[0m: Only integers are allowed"
     ]
    }
   ],
   "source": [
    "x = \"Sumant\"\n",
    "\n",
    "if not type(x) is int:\n",
    "  raise TypeError(\"Only integers are allowed\")"
   ]
  },
  {
   "cell_type": "markdown",
   "id": "a51d6ce7",
   "metadata": {},
   "source": [
    "Example 8"
   ]
  },
  {
   "cell_type": "code",
   "execution_count": 20,
   "id": "3c85338b",
   "metadata": {},
   "outputs": [
    {
     "name": "stdout",
     "output_type": "stream",
     "text": [
      "Written content in the file successfully\n"
     ]
    }
   ],
   "source": [
    "try:\n",
    "   fh = open(\"testfile\", \"w\")\n",
    "   fh.write(\"This is my test file for exception handling!!\")\n",
    "except IOError:\n",
    "   print (\"Error: can\\'t find file or read data\")\n",
    "else:\n",
    "   print (\"Written content in the file successfully\")\n",
    "   fh.close()"
   ]
  },
  {
   "cell_type": "markdown",
   "id": "f8bdebab",
   "metadata": {},
   "source": [
    "Example 9"
   ]
  },
  {
   "cell_type": "code",
   "execution_count": 27,
   "id": "0abb58bb",
   "metadata": {},
   "outputs": [
    {
     "name": "stdout",
     "output_type": "stream",
     "text": [
      "Error: can't find file or read data\n"
     ]
    }
   ],
   "source": [
    "try:\n",
    "   fh = open(\"testfile\", \"r\")\n",
    "   fh.write(\"This is my test file for exception handling!!\")\n",
    "except:\n",
    "   print (\"Error: can\\'t find file or read data\")\n",
    "else:\n",
    "   print (\"Written content in the file successfully\")"
   ]
  },
  {
   "cell_type": "code",
   "execution_count": null,
   "id": "e62f10d6",
   "metadata": {},
   "outputs": [],
   "source": []
  }
 ],
 "metadata": {
  "kernelspec": {
   "display_name": "Python 3",
   "language": "python",
   "name": "python3"
  },
  "language_info": {
   "codemirror_mode": {
    "name": "ipython",
    "version": 3
   },
   "file_extension": ".py",
   "mimetype": "text/x-python",
   "name": "python",
   "nbconvert_exporter": "python",
   "pygments_lexer": "ipython3",
   "version": "3.8.8"
  }
 },
 "nbformat": 4,
 "nbformat_minor": 5
}
