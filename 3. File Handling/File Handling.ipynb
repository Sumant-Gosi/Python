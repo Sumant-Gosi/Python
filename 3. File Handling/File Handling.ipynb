{
 "cells": [
  {
   "cell_type": "markdown",
   "id": "cccaaf6c",
   "metadata": {},
   "source": [
    "# File Handling"
   ]
  },
  {
   "cell_type": "markdown",
   "id": "958bd280",
   "metadata": {},
   "source": [
    "1. Reading a file"
   ]
  },
  {
   "cell_type": "code",
   "execution_count": 36,
   "id": "c1bbf21f",
   "metadata": {},
   "outputs": [
    {
     "name": "stdout",
     "output_type": "stream",
     "text": [
      "Hello! This is Sumant Gosi.\n",
      "How you doinnnn ?\n",
      "I am from Germany!\n",
      "Adios!!!\n"
     ]
    }
   ],
   "source": [
    "# Opening the file with absolute path\n",
    "fp = open(r'F:\\GITHUB\\Python_Coding\\Sample.txt', 'r')\n",
    "# read file\n",
    "print(fp.read())\n",
    "# Closing the file after reading\n",
    "fp.close()"
   ]
  },
  {
   "cell_type": "markdown",
   "id": "b499e391",
   "metadata": {},
   "source": [
    "2. Writing to a file"
   ]
  },
  {
   "cell_type": "code",
   "execution_count": 20,
   "id": "1fd6eca9",
   "metadata": {},
   "outputs": [
    {
     "name": "stdout",
     "output_type": "stream",
     "text": [
      "Done Writing\n"
     ]
    }
   ],
   "source": [
    "text = \"This is new content\"\n",
    "# writing new content to the file\n",
    "fp = open(\"write_demo.txt\", 'w')\n",
    "fp.write(text)\n",
    "print('Done Writing')\n",
    "fp.close()"
   ]
  },
  {
   "cell_type": "code",
   "execution_count": 21,
   "id": "81cfb93e",
   "metadata": {},
   "outputs": [
    {
     "name": "stdout",
     "output_type": "stream",
     "text": [
      "This is new content\n"
     ]
    }
   ],
   "source": [
    "# Opening the file with file name\n",
    "fp = open('write_demo.txt', 'r')\n",
    "# read file\n",
    "print(fp.read())\n",
    "# Closing the file after reading\n",
    "fp.close()"
   ]
  },
  {
   "cell_type": "markdown",
   "id": "5a21383c",
   "metadata": {},
   "source": [
    "3. Moving file pointer"
   ]
  },
  {
   "cell_type": "code",
   "execution_count": 38,
   "id": "40d96929",
   "metadata": {},
   "outputs": [
    {
     "name": "stdout",
     "output_type": "stream",
     "text": [
      " is Sumant Gosi.\n",
      "How you doinnnn ?\n",
      "I am from Germany!\n",
      "Adios!!!\n"
     ]
    }
   ],
   "source": [
    "f = open(r'F:\\GITHUB\\Python_Coding\\Sample.txt', \"r\")\n",
    "# move to 11 character\n",
    "f.seek(11)\n",
    "# read from 11th character\n",
    "print(f.read())"
   ]
  },
  {
   "cell_type": "code",
   "execution_count": 39,
   "id": "57181c3f",
   "metadata": {},
   "outputs": [
    {
     "name": "stdout",
     "output_type": "stream",
     "text": [
      "29\n"
     ]
    }
   ],
   "source": [
    "f = open(r'F:\\GITHUB\\Python_Coding\\Sample.txt', \"r\")\n",
    "# read first line\n",
    "f.readline()\n",
    "# get current position of file handle\n",
    "print(f.tell())"
   ]
  },
  {
   "cell_type": "markdown",
   "id": "5d720526",
   "metadata": {},
   "source": [
    "4. Copy files"
   ]
  },
  {
   "cell_type": "code",
   "execution_count": 41,
   "id": "5ee2f749",
   "metadata": {},
   "outputs": [
    {
     "name": "stdout",
     "output_type": "stream",
     "text": [
      "Copied\n"
     ]
    }
   ],
   "source": [
    "import shutil\n",
    "\n",
    "src_path = r\"F:\\GITHUB\\Python_Coding\\Sample.txt\"\n",
    "dst_path = r\"F:\\GITHUB\\Python_Coding\\Sample_copy.txt\"\n",
    "shutil.copy(src_path, dst_path)\n",
    "print('Copied')"
   ]
  },
  {
   "cell_type": "code",
   "execution_count": 42,
   "id": "587373f0",
   "metadata": {},
   "outputs": [
    {
     "name": "stdout",
     "output_type": "stream",
     "text": [
      "Hello! This is Sumant Gosi.\n",
      "How you doinnnn ?\n",
      "I am from Germany!\n",
      "Adios!!!\n"
     ]
    }
   ],
   "source": [
    "# Opening the file with absolute path\n",
    "fp = open(r'F:\\GITHUB\\Python_Coding\\Sample_copy.txt', 'r')\n",
    "# read file\n",
    "print(fp.read())\n",
    "# Closing the file after reading\n",
    "fp.close()"
   ]
  },
  {
   "cell_type": "markdown",
   "id": "947f6bee",
   "metadata": {},
   "source": [
    "5. Rename Files"
   ]
  },
  {
   "cell_type": "code",
   "execution_count": 43,
   "id": "b4dd6bc1",
   "metadata": {},
   "outputs": [],
   "source": [
    "import os\n",
    "\n",
    "# Absolute path of a file\n",
    "old_name = r\"F:\\GITHUB\\Python_Coding\\Sample_copy.txt\"\n",
    "new_name = r\"F:\\GITHUB\\Python_Coding\\Sample_copy_RENAMED.txt\"\n",
    "\n",
    "# Renaming the file\n",
    "os.rename(old_name, new_name)"
   ]
  },
  {
   "cell_type": "code",
   "execution_count": 44,
   "id": "64d0a684",
   "metadata": {},
   "outputs": [
    {
     "name": "stdout",
     "output_type": "stream",
     "text": [
      "Hello! This is Sumant Gosi.\n",
      "How you doinnnn ?\n",
      "I am from Germany!\n",
      "Adios!!!\n"
     ]
    }
   ],
   "source": [
    "# Opening the file with absolute path\n",
    "fp = open(r'F:\\GITHUB\\Python_Coding\\Sample_copy_RENAMED.txt', 'r')\n",
    "# read file\n",
    "print(fp.read())\n",
    "# Closing the file after reading\n",
    "fp.close()"
   ]
  },
  {
   "cell_type": "markdown",
   "id": "be0a521d",
   "metadata": {},
   "source": [
    "6. Delete Files - Ensure the file exists before deleting it"
   ]
  },
  {
   "cell_type": "code",
   "execution_count": 46,
   "id": "7868fea5",
   "metadata": {},
   "outputs": [
    {
     "name": "stdout",
     "output_type": "stream",
     "text": [
      "Copied\n"
     ]
    }
   ],
   "source": [
    "#Creating a duplicate copy of a file to be deleted\n",
    "\n",
    "import shutil\n",
    "\n",
    "src_path = r\"F:\\GITHUB\\Python_Coding\\Sample.txt\"\n",
    "dst_path = r\"F:\\GITHUB\\Python_Coding\\Sample_ti_be_deleted.txt\"\n",
    "shutil.copy(src_path, dst_path)\n",
    "print('Copied')"
   ]
  },
  {
   "cell_type": "code",
   "execution_count": 47,
   "id": "51ab4010",
   "metadata": {},
   "outputs": [
    {
     "name": "stdout",
     "output_type": "stream",
     "text": [
      "Hello! This is Sumant Gosi.\n",
      "How you doinnnn ?\n",
      "I am from Germany!\n",
      "Adios!!!\n"
     ]
    }
   ],
   "source": [
    "# Opening the file with absolute path\n",
    "fp = open(r'F:\\GITHUB\\Python_Coding\\Sample_ti_be_deleted.txt', 'r')\n",
    "# read file\n",
    "print(fp.read())\n",
    "# Closing the file after reading\n",
    "fp.close()"
   ]
  },
  {
   "cell_type": "code",
   "execution_count": 48,
   "id": "87f7e385",
   "metadata": {},
   "outputs": [],
   "source": [
    "import os\n",
    "\n",
    "# remove file with absolute path\n",
    "os.remove(r\"F:\\GITHUB\\Python_Coding\\Sample_ti_be_deleted.txt\")"
   ]
  },
  {
   "cell_type": "markdown",
   "id": "2373f33a",
   "metadata": {},
   "source": [
    "7. To check if a file exists"
   ]
  },
  {
   "cell_type": "code",
   "execution_count": 50,
   "id": "81a7f46b",
   "metadata": {},
   "outputs": [
    {
     "name": "stdout",
     "output_type": "stream",
     "text": [
      "The file F:\\GITHUB\\Python_Coding\\Sample_ti_be_deleted.txt does not exist\n"
     ]
    }
   ],
   "source": [
    "import os.path\n",
    "\n",
    "# file to check\n",
    "file_path = r'F:\\GITHUB\\Python_Coding\\Sample_ti_be_deleted.txt'\n",
    "\n",
    "flag = os.path.isfile(file_path)\n",
    "if flag:\n",
    "    print(f'The file {file_path} exists')\n",
    "else:\n",
    "    print(f'The file {file_path} does not exist')\n",
    "    # you can create it if required"
   ]
  },
  {
   "cell_type": "code",
   "execution_count": null,
   "id": "48bd489b",
   "metadata": {},
   "outputs": [],
   "source": []
  }
 ],
 "metadata": {
  "kernelspec": {
   "display_name": "Python 3",
   "language": "python",
   "name": "python3"
  },
  "language_info": {
   "codemirror_mode": {
    "name": "ipython",
    "version": 3
   },
   "file_extension": ".py",
   "mimetype": "text/x-python",
   "name": "python",
   "nbconvert_exporter": "python",
   "pygments_lexer": "ipython3",
   "version": "3.8.8"
  }
 },
 "nbformat": 4,
 "nbformat_minor": 5
}
