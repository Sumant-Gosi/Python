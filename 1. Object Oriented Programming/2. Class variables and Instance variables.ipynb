{
 "cells": [
  {
   "cell_type": "markdown",
   "id": "e180bdeb",
   "metadata": {},
   "source": [
    "# Class variables"
   ]
  },
  {
   "cell_type": "markdown",
   "id": "0460422e",
   "metadata": {},
   "source": [
    "Class variables: This variable is shared between all objects of a class"
   ]
  },
  {
   "cell_type": "code",
   "execution_count": 3,
   "id": "7c75de8c",
   "metadata": {},
   "outputs": [
    {
     "name": "stdout",
     "output_type": "stream",
     "text": [
      "Inside instance method\n",
      "Sumant 25 TUC Chemnitz \n",
      "TUC Chemnitz \n",
      "Outside class\n",
      "TUC Chemnitz \n",
      "TUC Chemnitz \n"
     ]
    }
   ],
   "source": [
    "class Student:\n",
    "    # Class variable\n",
    "    school_name = 'TUC Chemnitz '\n",
    "\n",
    "    # constructor\n",
    "    def __init__(self, name, roll_no):\n",
    "        self.name = name\n",
    "        self.roll_no = roll_no\n",
    "\n",
    "    # Instance method\n",
    "    def show(self):\n",
    "        print('Inside instance method')\n",
    "        # accessing class variable using self\n",
    "        print(self.name, self.roll_no, self.school_name)\n",
    "        # accessing class variable using class name\n",
    "        print(Student.school_name)\n",
    "\n",
    "# create Object\n",
    "s1 = Student('Sumant', 25)\n",
    "s1.show()\n",
    "\n",
    "print('Outside class')\n",
    "# access class variable outside class\n",
    "# accessing class variable using object reference\n",
    "print(s1.school_name)\n",
    "\n",
    "# access using class name\n",
    "print(Student.school_name)"
   ]
  },
  {
   "cell_type": "markdown",
   "id": "3fc53f29",
   "metadata": {},
   "source": [
    "# Instance variables"
   ]
  },
  {
   "cell_type": "markdown",
   "id": "90f073e4",
   "metadata": {},
   "source": [
    "Instance variables in a class: these are called fields or attributes of an object and are specific to that object"
   ]
  },
  {
   "cell_type": "code",
   "execution_count": 5,
   "id": "e6497558",
   "metadata": {},
   "outputs": [
    {
     "name": "stdout",
     "output_type": "stream",
     "text": [
      "Before\n",
      "Name: Sumant Age: 25\n",
      "After\n",
      "Name: Sumanth Gosi Age: 20\n"
     ]
    }
   ],
   "source": [
    "class Student:\n",
    "    # constructor\n",
    "    def __init__(self, name, age):\n",
    "        # Instance variables\n",
    "        self.name = name\n",
    "        self.age = age\n",
    "\n",
    "# create object\n",
    "stud = Student(\"Sumant\", 25)\n",
    "\n",
    "print('Before')\n",
    "print('Name:', stud.name, 'Age:', stud.age)\n",
    "\n",
    "# modify instance variable\n",
    "stud.name = 'Sumanth Gosi'\n",
    "stud.age = 20\n",
    "\n",
    "print('After')\n",
    "print('Name:', stud.name, 'Age:', stud.age)"
   ]
  },
  {
   "cell_type": "code",
   "execution_count": null,
   "id": "06906e9c",
   "metadata": {},
   "outputs": [],
   "source": []
  }
 ],
 "metadata": {
  "kernelspec": {
   "display_name": "Python 3",
   "language": "python",
   "name": "python3"
  },
  "language_info": {
   "codemirror_mode": {
    "name": "ipython",
    "version": 3
   },
   "file_extension": ".py",
   "mimetype": "text/x-python",
   "name": "python",
   "nbconvert_exporter": "python",
   "pygments_lexer": "ipython3",
   "version": "3.8.8"
  }
 },
 "nbformat": 4,
 "nbformat_minor": 5
}
