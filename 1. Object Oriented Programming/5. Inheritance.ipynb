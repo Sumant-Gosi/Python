{
 "cells": [
  {
   "cell_type": "markdown",
   "id": "17870663",
   "metadata": {},
   "source": [
    "# Inheritance"
   ]
  },
  {
   "cell_type": "markdown",
   "id": "fa99b7ca",
   "metadata": {},
   "source": [
    "Example 1"
   ]
  },
  {
   "cell_type": "code",
   "execution_count": 2,
   "id": "89bfb77a",
   "metadata": {},
   "outputs": [
    {
     "name": "stdout",
     "output_type": "stream",
     "text": [
      "Reptile is ready\n",
      "Crocodile is ready\n",
      "Crocodile\n",
      "Swims slower\n",
      "Runs slower\n"
     ]
    }
   ],
   "source": [
    "# parent class\n",
    "class Reptile:\n",
    "    \n",
    "    def __init__(self):\n",
    "        print(\"Reptile is ready\")\n",
    "\n",
    "    def whoisThis(self):\n",
    "        print(\"Reptile\")\n",
    "\n",
    "    def swim(self):\n",
    "        print(\"Swims slower\")\n",
    "\n",
    "# child class inherits from parent class\n",
    "class Crocodile(Reptile):\n",
    "\n",
    "    def __init__(self):\n",
    "        # call super() function -- Initializes the parent class\n",
    "        super().__init__()\n",
    "        print(\"Crocodile is ready\")\n",
    "    \n",
    "    #Overwriting the whoisThis method from parent class\n",
    "    def whoisThis(self):\n",
    "        print(\"Crocodile\")\n",
    "\n",
    "    def run(self):\n",
    "        print(\"Runs slower\")\n",
    "\n",
    "crocy = Crocodile()\n",
    "crocy.whoisThis()\n",
    "crocy.swim()\n",
    "crocy.run()"
   ]
  },
  {
   "cell_type": "markdown",
   "id": "7703d18c",
   "metadata": {},
   "source": [
    "Example 2"
   ]
  },
  {
   "cell_type": "code",
   "execution_count": 8,
   "id": "246799a4",
   "metadata": {},
   "outputs": [
    {
     "name": "stdout",
     "output_type": "stream",
     "text": [
      "Enter side 1 : 5\n",
      "Enter side 2 : 5\n",
      "Enter side 3 : 5\n",
      "Side 1 is 5.0\n",
      "Side 2 is 5.0\n",
      "Side 3 is 5.0\n",
      "The area of the triangle is 10.83\n"
     ]
    }
   ],
   "source": [
    "# parent class\n",
    "class Polygon:\n",
    "    def __init__(self, number_of_sides):\n",
    "        self.n = number_of_sides\n",
    "        self.sides = [0 for i in range(number_of_sides)]\n",
    "\n",
    "    def inputSides(self):\n",
    "        self.sides = [float(input(\"Enter side \"+str(i+1)+\" : \")) for i in range(self.n)]\n",
    "\n",
    "    def dispSides(self):\n",
    "        for i in range(self.n):\n",
    "            print(\"Side\",i+1,\"is\",self.sides[i])\n",
    "            \n",
    "\n",
    "# child class inherits from parent class\n",
    "class Triangle(Polygon):\n",
    "    def __init__(self):\n",
    "        Polygon.__init__(self,3)\n",
    "\n",
    "    def findArea(self):\n",
    "        a, b, c = self.sides\n",
    "        # calculate the semi-perimeter\n",
    "        s = (a + b + c) / 2\n",
    "        area = (s*(s-a)*(s-b)*(s-c)) ** 0.5\n",
    "        print('The area of the triangle is %0.2f' %area)\n",
    "        \n",
    "\n",
    "\n",
    "t1 = Triangle()\n",
    "t1.inputSides()\n",
    "t1.dispSides()\n",
    "t1.findArea()\n",
    "\n"
   ]
  },
  {
   "cell_type": "markdown",
   "id": "4dd384f8",
   "metadata": {},
   "source": [
    "The function isinstance() returns True if the object is an instance of the class or other classes derived from it. Each and every class in Python inherits from the base class object."
   ]
  },
  {
   "cell_type": "code",
   "execution_count": 11,
   "id": "70c34e0a",
   "metadata": {},
   "outputs": [
    {
     "data": {
      "text/plain": [
       "True"
      ]
     },
     "execution_count": 11,
     "metadata": {},
     "output_type": "execute_result"
    }
   ],
   "source": [
    "isinstance(t1,Triangle)"
   ]
  },
  {
   "cell_type": "markdown",
   "id": "3a1b7df1",
   "metadata": {},
   "source": [
    "issubclass() is used to check for class inheritance.\n",
    "\n"
   ]
  },
  {
   "cell_type": "code",
   "execution_count": 16,
   "id": "d965fe80",
   "metadata": {},
   "outputs": [
    {
     "data": {
      "text/plain": [
       "True"
      ]
     },
     "execution_count": 16,
     "metadata": {},
     "output_type": "execute_result"
    }
   ],
   "source": [
    "issubclass(Triangle,Polygon)"
   ]
  },
  {
   "cell_type": "code",
   "execution_count": null,
   "id": "87787fef",
   "metadata": {},
   "outputs": [],
   "source": []
  }
 ],
 "metadata": {
  "kernelspec": {
   "display_name": "Python 3",
   "language": "python",
   "name": "python3"
  },
  "language_info": {
   "codemirror_mode": {
    "name": "ipython",
    "version": 3
   },
   "file_extension": ".py",
   "mimetype": "text/x-python",
   "name": "python",
   "nbconvert_exporter": "python",
   "pygments_lexer": "ipython3",
   "version": "3.8.8"
  }
 },
 "nbformat": 4,
 "nbformat_minor": 5
}
