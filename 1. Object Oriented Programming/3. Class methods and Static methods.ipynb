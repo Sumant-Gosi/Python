{
 "cells": [
  {
   "cell_type": "markdown",
   "id": "31ea36d1",
   "metadata": {},
   "source": [
    "# Class methods"
   ]
  },
  {
   "cell_type": "markdown",
   "id": "6d4546cb",
   "metadata": {},
   "source": [
    "Class methods are methods that are called on the class itself, not on a specific object instance. Therefore, it belongs to a class level, and all class instances share a class method.\n",
    "\n"
   ]
  },
  {
   "cell_type": "code",
   "execution_count": 5,
   "id": "223e2b22",
   "metadata": {},
   "outputs": [
    {
     "name": "stdout",
     "output_type": "stream",
     "text": [
      "Sumant's age is: 25\n",
      "Sumant Gosi's age is: 26\n"
     ]
    }
   ],
   "source": [
    "from datetime import date\n",
    "\n",
    "class Student:\n",
    "    def __init__(self, name, age):\n",
    "        self.name = name\n",
    "        self.age = age\n",
    "\n",
    "    @classmethod\n",
    "    def calculate_age(cls, name, birth_year):\n",
    "        # calculate age and set it as a age\n",
    "        # return new object\n",
    "        return cls(name, date.today().year - birth_year)\n",
    "\n",
    "    def show(self):\n",
    "        print(self.name + \"'s age is: \" + str(self.age))\n",
    "\n",
    "Sumant = Student('Sumant', 25)\n",
    "Sumant.show()\n",
    "\n",
    "# create new object using the factory method\n",
    "joy = Student.calculate_age(\"Sumant Gosi\", 1996)\n",
    "joy.show()"
   ]
  },
  {
   "cell_type": "markdown",
   "id": "6912335b",
   "metadata": {},
   "source": [
    "# Static methods"
   ]
  },
  {
   "cell_type": "markdown",
   "id": "eb2336d7",
   "metadata": {},
   "source": [
    "A static method is a general utility method that performs a task in isolation. "
   ]
  },
  {
   "cell_type": "code",
   "execution_count": 13,
   "id": "49779459",
   "metadata": {},
   "outputs": [
    {
     "name": "stdout",
     "output_type": "stream",
     "text": [
      "Completed task_1\n",
      "Completed task_2\n",
      "Completed task_3\n"
     ]
    }
   ],
   "source": [
    "class Employee(object):\n",
    "\n",
    "    def __init__(self, name, salary, project_name):\n",
    "        self.name = name\n",
    "        self.salary = salary\n",
    "        self.project_name = project_name\n",
    "\n",
    "    @staticmethod\n",
    "    def gather_requirement(project_name):\n",
    "        if project_name == 'NLP Project':\n",
    "            requirement = ['task_1', 'task_2', 'task_3']\n",
    "        else:\n",
    "            requirement = ['task_1']\n",
    "        return requirement\n",
    "\n",
    "    # instance method\n",
    "    def work(self):\n",
    "        # call static method from instance method\n",
    "        requirement = self.gather_requirement(self.project_name)\n",
    "        for task in requirement:\n",
    "            print('Completed', task)\n",
    "\n",
    "emp = Employee('Sumant', 12000, 'NLP Project')\n",
    "emp.work()"
   ]
  },
  {
   "cell_type": "code",
   "execution_count": null,
   "id": "4c5c30d8",
   "metadata": {},
   "outputs": [],
   "source": []
  },
  {
   "cell_type": "code",
   "execution_count": null,
   "id": "067b281a",
   "metadata": {},
   "outputs": [],
   "source": []
  }
 ],
 "metadata": {
  "kernelspec": {
   "display_name": "Python 3",
   "language": "python",
   "name": "python3"
  },
  "language_info": {
   "codemirror_mode": {
    "name": "ipython",
    "version": 3
   },
   "file_extension": ".py",
   "mimetype": "text/x-python",
   "name": "python",
   "nbconvert_exporter": "python",
   "pygments_lexer": "ipython3",
   "version": "3.8.8"
  }
 },
 "nbformat": 4,
 "nbformat_minor": 5
}
