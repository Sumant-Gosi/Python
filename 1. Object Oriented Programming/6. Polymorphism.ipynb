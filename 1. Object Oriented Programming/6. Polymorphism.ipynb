{
 "cells": [
  {
   "cell_type": "markdown",
   "id": "8b0d9752",
   "metadata": {},
   "source": [
    "# Polymorphism"
   ]
  },
  {
   "cell_type": "markdown",
   "id": "d9a04054",
   "metadata": {},
   "source": [
    "Polymorphism in Python is the ability of an object to take many forms. In simple words, polymorphism allows us to perform the same action in many different ways."
   ]
  },
  {
   "cell_type": "markdown",
   "id": "c2bd2697",
   "metadata": {},
   "source": [
    "Example 1"
   ]
  },
  {
   "cell_type": "code",
   "execution_count": 4,
   "id": "ceff3755",
   "metadata": {},
   "outputs": [
    {
     "name": "stdout",
     "output_type": "stream",
     "text": [
      "Sparrow can fly\n",
      "Crocodile can't fly\n",
      "Sparrow can't swim\n",
      "Crocodile can swim\n"
     ]
    }
   ],
   "source": [
    "class Sparrow:\n",
    "\n",
    "    def fly(self):\n",
    "        print(\"Sparrow can fly\")\n",
    "    \n",
    "    def swim(self):\n",
    "        print(\"Sparrow can't swim\")\n",
    "\n",
    "class Crocodile:\n",
    "\n",
    "    def fly(self):\n",
    "        print(\"Crocodile can't fly\")\n",
    "    \n",
    "    def swim(self):\n",
    "        print(\"Crocodile can swim\")\n",
    "\n",
    "# common interface\n",
    "def flying_test(x):\n",
    "    x.fly()\n",
    "    \n",
    "def swimming_test(y):\n",
    "    y.swim()\n",
    "\n",
    "#instantiate objects\n",
    "sparry = Sparrow()\n",
    "crocy = Crocodile()\n",
    "\n",
    "# passing the object\n",
    "flying_test(sparry)\n",
    "flying_test(crocy)\n",
    "swimming_test(sparry)\n",
    "swimming_test(crocy)\n",
    "\n"
   ]
  },
  {
   "cell_type": "markdown",
   "id": "dc2f4dd4",
   "metadata": {},
   "source": [
    "Example 2"
   ]
  },
  {
   "cell_type": "code",
   "execution_count": 6,
   "id": "39fb3061",
   "metadata": {},
   "outputs": [
    {
     "name": "stdout",
     "output_type": "stream",
     "text": [
      "Details: Car x1 Red 20000\n",
      "Car max speed is 240\n",
      "Car change 7 gear\n",
      "Details: Truck x1 white 75000\n",
      "Vehicle max speed is 150\n",
      "Vehicle change 6 gear\n"
     ]
    }
   ],
   "source": [
    "# parent class\n",
    "class Vehicle:\n",
    "\n",
    "    def __init__(self, name, color, price):\n",
    "        self.name = name\n",
    "        self.color = color\n",
    "        self.price = price\n",
    "\n",
    "    def show(self):\n",
    "        print('Details:', self.name, self.color, self.price)\n",
    "\n",
    "    def max_speed(self):\n",
    "        print('Vehicle max speed is 150')\n",
    "\n",
    "    def change_gear(self):\n",
    "        print('Vehicle change 6 gear')\n",
    "\n",
    "\n",
    "# inherit from vehicle class\n",
    "class Car(Vehicle):\n",
    "    def max_speed(self):\n",
    "        print('Car max speed is 240')\n",
    "\n",
    "    def change_gear(self):\n",
    "        print('Car change 7 gear')\n",
    "\n",
    "\n",
    "# Car Object\n",
    "car = Car('Car x1', 'Red', 20000)\n",
    "car.show()\n",
    "\n",
    "# calling methods from Car class\n",
    "car.max_speed()\n",
    "car.change_gear()\n",
    "\n",
    "# Vehicle Object\n",
    "vehicle = Vehicle('Truck x1', 'white', 75000)\n",
    "vehicle.show()\n",
    "\n",
    "# calling method from a Vehicle class\n",
    "vehicle.max_speed()\n",
    "vehicle.change_gear()"
   ]
  },
  {
   "cell_type": "code",
   "execution_count": null,
   "id": "8a02a5d3",
   "metadata": {},
   "outputs": [],
   "source": []
  }
 ],
 "metadata": {
  "kernelspec": {
   "display_name": "Python 3",
   "language": "python",
   "name": "python3"
  },
  "language_info": {
   "codemirror_mode": {
    "name": "ipython",
    "version": 3
   },
   "file_extension": ".py",
   "mimetype": "text/x-python",
   "name": "python",
   "nbconvert_exporter": "python",
   "pygments_lexer": "ipython3",
   "version": "3.8.8"
  }
 },
 "nbformat": 4,
 "nbformat_minor": 5
}
