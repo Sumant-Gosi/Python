{
 "cells": [
  {
   "cell_type": "markdown",
   "id": "1e52c23b",
   "metadata": {},
   "source": [
    "# Encapsulation "
   ]
  },
  {
   "cell_type": "markdown",
   "id": "a2e85407",
   "metadata": {},
   "source": [
    "Using OOP in Python, we can restrict access to methods and variables. This prevents data from direct modification which is called encapsulation. In Python, we denote private attributes using underscore as the prefix i.e single _ or double __"
   ]
  },
  {
   "cell_type": "code",
   "execution_count": 3,
   "id": "c71dbb4f",
   "metadata": {},
   "outputs": [
    {
     "name": "stdout",
     "output_type": "stream",
     "text": [
      "Selling Price: 900\n",
      "Selling Price: 900\n",
      "Selling Price: 1000\n"
     ]
    }
   ],
   "source": [
    "class Laptop:\n",
    "\n",
    "    def __init__(self):\n",
    "        self.__maxprice = 900\n",
    "\n",
    "    def sell(self):\n",
    "        print(\"Selling Price: {}\".format(self.__maxprice))\n",
    "\n",
    "    def setMaxPrice(self, price):\n",
    "        self.__maxprice = price\n",
    "\n",
    "l1 = Laptop()\n",
    "l1.sell()\n",
    "\n",
    "# change the price\n",
    "#Here, we have tried to modify the value of __maxprice outside of the class. \n",
    "#However, since __maxprice is a private variable, this modification is not seen on the output.\n",
    "l1.__maxprice = 1000\n",
    "l1.sell()\n",
    "\n",
    "# using setter function\n",
    "#As shown, to change the value, we have to use a setter function \n",
    "#i.e setMaxPrice() which takes price as a parameter.\n",
    "l1.setMaxPrice(1000)\n",
    "l1.sell()"
   ]
  },
  {
   "cell_type": "markdown",
   "id": "287fd51d",
   "metadata": {},
   "source": [
    "# Getters and Setters "
   ]
  },
  {
   "cell_type": "code",
   "execution_count": 4,
   "id": "fb3d01b6",
   "metadata": {},
   "outputs": [
    {
     "name": "stdout",
     "output_type": "stream",
     "text": [
      "Name: Sumant 25\n",
      "Name: Sumant 16\n"
     ]
    }
   ],
   "source": [
    "class Student:\n",
    "    def __init__(self, name, age):\n",
    "        self.name = name\n",
    "        # private member\n",
    "        self.__age = age\n",
    "\n",
    "    # getter method\n",
    "    def get_age(self):\n",
    "        return self.__age\n",
    "\n",
    "    # setter method\n",
    "    def set_age(self, age):\n",
    "        self.__age = age\n",
    "\n",
    "stud1 = Student('Sumant', 25)\n",
    "\n",
    "# retrieving age using getter\n",
    "print('Name:', stud1.name, stud1.get_age())\n",
    "\n",
    "# changing age using setter\n",
    "stud1.set_age(16)\n",
    "\n",
    "# retrieving age using getter\n",
    "print('Name:', stud1.name, stud1.get_age())"
   ]
  },
  {
   "cell_type": "markdown",
   "id": "ed13e448",
   "metadata": {},
   "source": [
    "# Protected member in Inheritance"
   ]
  },
  {
   "cell_type": "code",
   "execution_count": 10,
   "id": "7eb63d1b",
   "metadata": {},
   "outputs": [
    {
     "name": "stdout",
     "output_type": "stream",
     "text": [
      "Employee name : Sumant\n",
      "Working on NLP and has 10000 salary \n",
      "Project: NLP\n"
     ]
    }
   ],
   "source": [
    "# parent class\n",
    "class Company:\n",
    "    def __init__(self):\n",
    "        # Protected member\n",
    "        self._project = \"NLP\"\n",
    "        self._salary = 10000\n",
    "\n",
    "# child class\n",
    "class Employee(Company):\n",
    "    def __init__(self, name):\n",
    "        self.name = name\n",
    "        Company.__init__(self)\n",
    "\n",
    "    def show(self):\n",
    "        print(\"Employee name :\", self.name)\n",
    "        # Accessing protected member in child class\n",
    "        to_be_printed = \"Working on {project} and has {salary} salary \".format(project = self._project,salary=self._salary)\n",
    "        print(to_be_printedbe_printed)\n",
    "        \n",
    "c = Employee(\"Sumant\")\n",
    "c.show()\n",
    "\n",
    "# Direct access protected data member\n",
    "print('Project:', c._project)"
   ]
  },
  {
   "cell_type": "code",
   "execution_count": null,
   "id": "4a0d9e05",
   "metadata": {},
   "outputs": [],
   "source": []
  }
 ],
 "metadata": {
  "kernelspec": {
   "display_name": "Python 3",
   "language": "python",
   "name": "python3"
  },
  "language_info": {
   "codemirror_mode": {
    "name": "ipython",
    "version": 3
   },
   "file_extension": ".py",
   "mimetype": "text/x-python",
   "name": "python",
   "nbconvert_exporter": "python",
   "pygments_lexer": "ipython3",
   "version": "3.8.8"
  }
 },
 "nbformat": 4,
 "nbformat_minor": 5
}
