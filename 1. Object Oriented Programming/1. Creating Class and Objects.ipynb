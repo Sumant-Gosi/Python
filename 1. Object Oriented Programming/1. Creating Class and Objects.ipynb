{
 "cells": [
  {
   "cell_type": "markdown",
   "id": "8f03b6fa",
   "metadata": {},
   "source": [
    "# Creating a Class and Object"
   ]
  },
  {
   "cell_type": "code",
   "execution_count": 5,
   "id": "89aa2592",
   "metadata": {},
   "outputs": [
    {
     "name": "stdout",
     "output_type": "stream",
     "text": [
      "Blu is a reptile\n",
      "Woo is also a reptile\n",
      "Blu is 10 years old\n",
      "Woo is 15 years old\n",
      "Blu is singing '21 pilots'\n",
      "Blu is now dancing\n"
     ]
    }
   ],
   "source": [
    "class Crocodile:\n",
    "\n",
    "    # class attribute\n",
    "    species = \"reptile\"\n",
    "\n",
    "    # instance attribute\n",
    "    def __init__(self, name, age):\n",
    "        self.name = name\n",
    "        self.age = age\n",
    "        \n",
    "    # instance method\n",
    "    def sing(self, song):\n",
    "        return \"{} is singing {}\".format(self.name, song)\n",
    "    \n",
    "    # instance method\n",
    "    def dance(self):\n",
    "        return \"{} is now dancing\".format(self.name)\n",
    "\n",
    "# instantiate the Crocodile class\n",
    "blu = Crocodile(\"Blu\", 10)\n",
    "woo = Crocodile(\"Woo\", 15)\n",
    "\n",
    "# access the class attributes\n",
    "print(\"Blu is a {}\".format(blu.__class__.species))\n",
    "print(\"Woo is also a {}\".format(woo.__class__.species))\n",
    "\n",
    "# access the instance attributes\n",
    "print(\"{} is {} years old\".format( blu.name, blu.age))\n",
    "print(\"{} is {} years old\".format( woo.name, woo.age))\n",
    "\n",
    "# access the class method\n",
    "print(blu.sing(\"'21 pilots'\"))\n",
    "print(blu.dance())"
   ]
  },
  {
   "cell_type": "markdown",
   "id": "327bdfd9",
   "metadata": {},
   "source": []
  }
 ],
 "metadata": {
  "kernelspec": {
   "display_name": "Python 3",
   "language": "python",
   "name": "python3"
  },
  "language_info": {
   "codemirror_mode": {
    "name": "ipython",
    "version": 3
   },
   "file_extension": ".py",
   "mimetype": "text/x-python",
   "name": "python",
   "nbconvert_exporter": "python",
   "pygments_lexer": "ipython3",
   "version": "3.8.8"
  }
 },
 "nbformat": 4,
 "nbformat_minor": 5
}
